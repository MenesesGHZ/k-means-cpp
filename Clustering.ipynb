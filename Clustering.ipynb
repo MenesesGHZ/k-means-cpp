{
 "cells": [
  {
   "cell_type": "code",
   "execution_count": 1,
   "metadata": {},
   "outputs": [],
   "source": [
    "#include<iostream>\n",
    "#include<vector>\n",
    "#include<math.h>\n",
    "#include<fstream>\n",
    "using namespace std;"
   ]
  },
  {
   "cell_type": "code",
   "execution_count": 2,
   "metadata": {},
   "outputs": [],
   "source": [
    "class Point{\n",
    "    private:\n",
    "        float x=0.0,y=0.0;\n",
    "        int colorRGB[3]={0,0,0};\n",
    "        \n",
    "    public:\n",
    "        Point(float x_coord,float y_coord):x(x_coord),y(y_coord){}\n",
    "\n",
    "        void info(){\n",
    "            cout<<\"POINT(\"<<this->x<<\",\"<<this->y<<\",\"<<\"[\"<<\n",
    "                this->colorRGB[0]<<\",\"<<this->colorRGB[1]<<\",\"<<this->colorRGB[2]<<\"])\"<<endl;\n",
    "        }\n",
    "\n",
    "        float get_x(){\n",
    "            return this->x;\n",
    "        }\n",
    "        float get_y(){\n",
    "            return this->y;\n",
    "        }\n",
    "    \n",
    "        void set_x(float value){\n",
    "            this->x = value;\n",
    "        }\n",
    "        void set_y(float value){\n",
    "            this->y = value;\n",
    "        }\n",
    "    \n",
    "    \n",
    "        int* get_color(){\n",
    "            return this->colorRGB;\n",
    "        }\n",
    "    \n",
    "        bool operator==(const Point &point) const {\n",
    "            return x == point.x &&\n",
    "                   y == point.y;\n",
    "        }\n",
    "        bool operator!=(const Point &point) const {\n",
    "            return !(point == *this);\n",
    "        }\n",
    "    \n",
    "        float getDistance(Point &p) {\n",
    "            return sqrt(pow(p.x - this->x, 2) + pow(p.y - this->y, 2));\n",
    "        }\n",
    "        \n",
    "        friend std::ostream &operator<<(std::ostream &os, const Point &point){\n",
    "            os << \"(\" << point.x << \",\" << point.y << \")\";\n",
    "            return os;\n",
    "        }\n",
    "}\n",
    "       "
   ]
  },
  {
   "cell_type": "code",
   "execution_count": 3,
   "metadata": {},
   "outputs": [],
   "source": [
    "class Clust{\n",
    "    public:\n",
    "        vector<Point> points;\n",
    "        vector<int> index_points;\n",
    "        \n",
    "        enum COLOR{\n",
    "            ROJO=0,VERDE,AZUL\n",
    "        };\n",
    "        COLOR color = COLOR::ROJO;\n",
    "        Point centroid = Point(0,0);\n",
    "        float deviation_x=0.0,deviation_y=0.0;\n",
    "        \n",
    "        void update_centroid(){\n",
    "            for(vector<Point>::iterator point = this->points.begin(); point!=this->points.end();point++){\n",
    "                centroid.set_x(centroid.get_x()+point->get_x());\n",
    "                centroid.set_y(centroid.get_y()+point->get_y());\n",
    "            }\n",
    "            centroid.set_x(centroid.get_x()/(float)this->points.size());\n",
    "            centroid.set_y(centroid.get_y()/(float)this->points.size());\n",
    "        }\n",
    "    \n",
    "        void update_deviation(){\n",
    "            float value_x = 0.0, value_y = 0.0;\n",
    "            for(vector<Point>::iterator it = this->points.begin(); it!=this->points.end();it++){\n",
    "                value_x += pow(it->get_x()-centroid.get_x(),2);\n",
    "                value_y += pow(it->get_y()-centroid.get_y(),2);\n",
    "            }\n",
    "            this->deviation_x = pow(value_x/points.size(),0.5);\n",
    "            this->deviation_y = pow(value_y/points.size(),0.5);\n",
    "        } \n",
    "    \n",
    "    \n",
    "        Clust(Point &&centroid, COLOR color){\n",
    "            this->color = color;\n",
    "            this->centroid = centroid; \n",
    "        }\n",
    "            \n",
    "        void add_point(Point &&point){\n",
    "            this->points.push_back(point);\n",
    "            this->update_centroid();\n",
    "            this->update_deviation();\n",
    "        }\n",
    "        void add_point(Point &point){\n",
    "            this->points.push_back(point);\n",
    "            this->update_centroid();\n",
    "            this->update_deviation();\n",
    "        }\n",
    "        \n",
    "        void show_points(){\n",
    "            for(vector<Point>::iterator it = this->points.begin(); it!=this->points.end();it++){\n",
    "                it->info();\n",
    "            }    \n",
    "        }\n",
    "        void show_stats(){\n",
    "            cout<<\"centroid_Point(\"<<this->centroid.get_x()<<\",\"<<this->centroid.get_y()<<\")\"<<endl;\n",
    "            cout<<\"Deviation_Values(\"<<this->deviation_x<<\",\"<<this->deviation_y<<\")\"<<endl;\n",
    "        }\n",
    "        void delete_points(){\n",
    "            this->index_points.clear();\n",
    "            this->points.clear();\n",
    "        }\n",
    "        string getPoints() {\n",
    "            string s = \"\";\n",
    "            for (int p: index_points) {\n",
    "                s += to_string(p) + \" \";\n",
    "            }\n",
    "            return s;\n",
    "        }\n",
    "     \n",
    "        \n",
    "}      "
   ]
  },
  {
   "cell_type": "code",
   "execution_count": null,
   "metadata": {},
   "outputs": [],
   "source": []
  },
  {
   "cell_type": "code",
   "execution_count": null,
   "metadata": {},
   "outputs": [],
   "source": [
    "\n"
   ]
  },
  {
   "cell_type": "code",
   "execution_count": 4,
   "metadata": {},
   "outputs": [],
   "source": [
    "// PREPARANDO NUESTROS DATOS\n",
    "\n",
    "vector<Clust> clusters{{Point(5,19),Clust::COLOR::ROJO},\n",
    "                       {Point(10,9),Clust::COLOR::VERDE},\n",
    "                       {Point(12,4),Clust::COLOR::AZUL}};\n",
    "\n",
    "\n"
   ]
  },
  {
   "cell_type": "code",
   "execution_count": 5,
   "metadata": {},
   "outputs": [],
   "source": [
    "vector<Point> points{};\n"
   ]
  },
  {
   "cell_type": "code",
   "execution_count": 6,
   "metadata": {},
   "outputs": [],
   "source": [
    "\n",
    "void carga(int &&x_max, int &&y_max ,vector<Point> &points){\n",
    "    int x = 0, y = 0;\n",
    "    ofstream puntosTXT;\n",
    "    puntosTXT.open(\"puntos-500.txt\");\n",
    "    for(int instancia_n = 500 ; instancia_n > 0; instancia_n--){\n",
    "        x = rand()%x_max;\n",
    "        y = rand()%y_max;\n",
    "        puntosTXT<<x<<\",\"<<y<<endl;\n",
    "        points.push_back(Point(x,y));\n",
    "    }\n",
    "    puntosTXT.close();\n",
    "    cout<<\"DONE\"<<endl;   \n",
    "}\n"
   ]
  },
  {
   "cell_type": "code",
   "execution_count": 7,
   "metadata": {},
   "outputs": [
    {
     "name": "stdout",
     "output_type": "stream",
     "text": [
      "DONE\n"
     ]
    }
   ],
   "source": [
    "carga(500,500,points);\n"
   ]
  },
  {
   "cell_type": "code",
   "execution_count": 8,
   "metadata": {},
   "outputs": [],
   "source": [
    "// MAIN\n",
    "\n",
    "void populateClusters() {\n",
    "    for (int p = 0; p < points.size(); ++p) {\n",
    "        float smallestDistance = clusters[0].centroid.getDistance(points[p]);\n",
    "        int clusterToJoin = 0;\n",
    "        for (int i = 1; i < clusters.size(); i++) {\n",
    "            float distance = clusters[i].centroid.getDistance(points[p]);\n",
    "            if (distance < smallestDistance) {\n",
    "                smallestDistance = distance;\n",
    "                clusterToJoin = i;\n",
    "            }\n",
    "        }\n",
    "        clusters[clusterToJoin].index_points.push_back(p);\n",
    "    }\n",
    "}\n",
    "\n"
   ]
  },
  {
   "cell_type": "code",
   "execution_count": 9,
   "metadata": {},
   "outputs": [],
   "source": [
    "void MAIN(){\n",
    "    int iteracion = 1;\n",
    "    ofstream centroidsFile;\n",
    "    centroidsFile.open(\"centroides.txt\");\n",
    "    while(iteracion <= 10){\n",
    "        populateClusters(); \n",
    "        for(int cluster_index = 0; cluster_index < clusters.size(); cluster_index++){\n",
    "            for(int index : clusters[cluster_index].index_points){\n",
    "                clusters[cluster_index].add_point(points[index]);\n",
    "            }\n",
    "            centroidsFile <<  clusters[cluster_index].centroid << \"|-|\"<< clusters[cluster_index].getPoints() << endl;\n",
    "            clusters[cluster_index].delete_points();\n",
    "        } \n",
    "        iteracion++;\n",
    "    }\n",
    "    centroidsFile.close();\n",
    "\n",
    "}"
   ]
  },
  {
   "cell_type": "code",
   "execution_count": 10,
   "metadata": {},
   "outputs": [],
   "source": [
    "MAIN();"
   ]
  }
 ],
 "metadata": {
  "kernelspec": {
   "display_name": "C++11",
   "language": "C++11",
   "name": "xcpp11"
  },
  "language_info": {
   "codemirror_mode": "text/x-c++src",
   "file_extension": ".cpp",
   "mimetype": "text/x-c++src",
   "name": "c++",
   "version": "-std=c++11"
  }
 },
 "nbformat": 4,
 "nbformat_minor": 2
}
